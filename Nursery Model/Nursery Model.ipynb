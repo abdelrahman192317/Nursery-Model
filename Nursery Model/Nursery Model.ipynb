{
 "cells": [
  {
   "cell_type": "markdown",
   "metadata": {},
   "source": [
    "# Supervised Learning\n",
    "## Project: Rank Nursery-School Applications"
   ]
  },
  {
   "cell_type": "markdown",
   "metadata": {},
   "source": [
    "## Getting Started\n",
    "\n",
    "In this project, we will employ several supervised algorithms of our choice to accurately model individuals' income from a hierarchical decision model developed to rank applications for nursery schools. we will then choose the best candidate algorithm from preliminary results and further optimize this algorithm to best model the data. our goal with this implementation is to construct a model that accurately predicts the ranking of nursery-school applications. Nursery Database was derived from a hierarchical decision model originally developed to rank applications for nursery schools. It was used for several years in the 1980s when there was excessive enrollment in these schools in Ljubljana, Slovenia, and the rejected applications frequently needed an objective explanation. The dataset for this project originates from the UCI Machine Learning Repository.\n",
    "\n",
    "**Sources**:\n",
    "- Creator: Vladislav Rajkovic et al. (13 experts)\n",
    "- Donors: Marko Bohanec   (marko.bohanec@ijs.si)\n",
    "      Blaz Zupan      (blaz.zupan@ijs.si)\n",
    "- Date: June 1997 \n",
    "You can find the dataset [here](https://archive.ics.uci.edu/ml/datasets/Nursery)."
   ]
  },
  {
   "cell_type": "markdown",
   "metadata": {},
   "source": [
    "## Importing the libraries\n",
    "Run the code cell below to load necessary Python libraries."
   ]
  },
  {
   "cell_type": "code",
   "execution_count": 11,
   "metadata": {},
   "outputs": [],
   "source": [
    "#Importing the libraries\n",
    "import numpy as np\n",
    "import pandas as pd\n",
    "from sklearn.preprocessing import LabelEncoder, OneHotEncoder, MinMaxScaler\n",
    "from sklearn.model_selection import train_test_split\n",
    "\n",
    "from sklearn.tree import DecisionTreeClassifier\n",
    "\n",
    "from sklearn.metrics import accuracy_score"
   ]
  },
  {
   "cell_type": "markdown",
   "metadata": {},
   "source": [
    "## Exploring the Data\n",
    "Run the code cell below to load the census data."
   ]
  },
  {
   "cell_type": "code",
   "execution_count": 12,
   "metadata": {},
   "outputs": [
    {
     "data": {
      "text/html": [
       "<div>\n",
       "<style scoped>\n",
       "    .dataframe tbody tr th:only-of-type {\n",
       "        vertical-align: middle;\n",
       "    }\n",
       "\n",
       "    .dataframe tbody tr th {\n",
       "        vertical-align: top;\n",
       "    }\n",
       "\n",
       "    .dataframe thead th {\n",
       "        text-align: right;\n",
       "    }\n",
       "</style>\n",
       "<table border=\"1\" class=\"dataframe\">\n",
       "  <thead>\n",
       "    <tr style=\"text-align: right;\">\n",
       "      <th></th>\n",
       "      <th>Parents</th>\n",
       "      <th>has_nursery</th>\n",
       "      <th>form</th>\n",
       "      <th>children</th>\n",
       "      <th>housing</th>\n",
       "      <th>finance</th>\n",
       "      <th>social</th>\n",
       "      <th>health</th>\n",
       "      <th>target</th>\n",
       "    </tr>\n",
       "  </thead>\n",
       "  <tbody>\n",
       "    <tr>\n",
       "      <th>0</th>\n",
       "      <td>usual</td>\n",
       "      <td>proper</td>\n",
       "      <td>complete</td>\n",
       "      <td>1</td>\n",
       "      <td>convenient</td>\n",
       "      <td>convenient</td>\n",
       "      <td>nonprob</td>\n",
       "      <td>recommended</td>\n",
       "      <td>recommend</td>\n",
       "    </tr>\n",
       "    <tr>\n",
       "      <th>1</th>\n",
       "      <td>usual</td>\n",
       "      <td>proper</td>\n",
       "      <td>complete</td>\n",
       "      <td>1</td>\n",
       "      <td>convenient</td>\n",
       "      <td>convenient</td>\n",
       "      <td>nonprob</td>\n",
       "      <td>priority</td>\n",
       "      <td>priority</td>\n",
       "    </tr>\n",
       "    <tr>\n",
       "      <th>2</th>\n",
       "      <td>usual</td>\n",
       "      <td>proper</td>\n",
       "      <td>complete</td>\n",
       "      <td>1</td>\n",
       "      <td>convenient</td>\n",
       "      <td>convenient</td>\n",
       "      <td>nonprob</td>\n",
       "      <td>not_recom</td>\n",
       "      <td>not_recom</td>\n",
       "    </tr>\n",
       "    <tr>\n",
       "      <th>3</th>\n",
       "      <td>usual</td>\n",
       "      <td>proper</td>\n",
       "      <td>complete</td>\n",
       "      <td>1</td>\n",
       "      <td>convenient</td>\n",
       "      <td>convenient</td>\n",
       "      <td>slightly_prob</td>\n",
       "      <td>recommended</td>\n",
       "      <td>recommend</td>\n",
       "    </tr>\n",
       "    <tr>\n",
       "      <th>4</th>\n",
       "      <td>usual</td>\n",
       "      <td>proper</td>\n",
       "      <td>complete</td>\n",
       "      <td>1</td>\n",
       "      <td>convenient</td>\n",
       "      <td>convenient</td>\n",
       "      <td>slightly_prob</td>\n",
       "      <td>priority</td>\n",
       "      <td>priority</td>\n",
       "    </tr>\n",
       "  </tbody>\n",
       "</table>\n",
       "</div>"
      ],
      "text/plain": [
       "  Parents has_nursery      form children     housing     finance  \\\n",
       "0   usual      proper  complete        1  convenient  convenient   \n",
       "1   usual      proper  complete        1  convenient  convenient   \n",
       "2   usual      proper  complete        1  convenient  convenient   \n",
       "3   usual      proper  complete        1  convenient  convenient   \n",
       "4   usual      proper  complete        1  convenient  convenient   \n",
       "\n",
       "          social       health     target  \n",
       "0        nonprob  recommended  recommend  \n",
       "1        nonprob     priority   priority  \n",
       "2        nonprob    not_recom  not_recom  \n",
       "3  slightly_prob  recommended  recommend  \n",
       "4  slightly_prob     priority   priority  "
      ]
     },
     "execution_count": 12,
     "metadata": {},
     "output_type": "execute_result"
    }
   ],
   "source": [
    "#Importing the dataset\n",
    "Data = pd.read_csv('Data/nursery.data', names=[\n",
    "    'Parents','has_nursery','form','children','housing','finance','social','health','target'])\n",
    "Data.head()"
   ]
  },
  {
   "cell_type": "markdown",
   "metadata": {},
   "source": [
    "**Features Exploration**\n",
    "\n",
    "- **parents**: Parents' occupation (usual, pretentious, great_pret)\n",
    "- **has_nursery**: Child's nursery (proper, less_proper, improper, critical, very_crit)\n",
    "- **form**: Form of the family (complete, completed, incomplete, foster)\n",
    "- **children**: Number of children (1, 2, 3, more)\n",
    "- **housing**: Housing conditions (convenient, less_conv, critical)\n",
    "- **finance**: Financial standing of the family (convenient, inconv)\n",
    "- **social**: Social conditions (non-prob, slightly_prob, problematic)\n",
    "- **health**: Health conditions (recommended, priority, not_recom)"
   ]
  },
  {
   "cell_type": "markdown",
   "metadata": {},
   "source": [
    "## Information of the data"
   ]
  },
  {
   "cell_type": "code",
   "execution_count": 13,
   "metadata": {},
   "outputs": [
    {
     "name": "stdout",
     "output_type": "stream",
     "text": [
      "<class 'pandas.core.frame.DataFrame'>\n",
      "RangeIndex: 12960 entries, 0 to 12959\n",
      "Data columns (total 9 columns):\n",
      " #   Column       Non-Null Count  Dtype \n",
      "---  ------       --------------  ----- \n",
      " 0   Parents      12960 non-null  object\n",
      " 1   has_nursery  12960 non-null  object\n",
      " 2   form         12960 non-null  object\n",
      " 3   children     12960 non-null  object\n",
      " 4   housing      12960 non-null  object\n",
      " 5   finance      12960 non-null  object\n",
      " 6   social       12960 non-null  object\n",
      " 7   health       12960 non-null  object\n",
      " 8   target       12960 non-null  object\n",
      "dtypes: object(9)\n",
      "memory usage: 911.4+ KB\n"
     ]
    }
   ],
   "source": [
    "Data.info()"
   ]
  },
  {
   "cell_type": "markdown",
   "metadata": {},
   "source": [
    "## Show the Target's Classifications\n",
    "Nursery-School Applications (very_recom, recommend, not_recom, priority, spec_prior)"
   ]
  },
  {
   "cell_type": "code",
   "execution_count": 14,
   "metadata": {},
   "outputs": [
    {
     "data": {
      "text/plain": [
       "not_recom     4320\n",
       "priority      4266\n",
       "spec_prior    4044\n",
       "very_recom     328\n",
       "recommend        2\n",
       "Name: target, dtype: int64"
      ]
     },
     "execution_count": 14,
     "metadata": {},
     "output_type": "execute_result"
    }
   ],
   "source": [
    "Data['target'].value_counts()"
   ]
  },
  {
   "cell_type": "code",
   "execution_count": 15,
   "metadata": {},
   "outputs": [
    {
     "name": "stdout",
     "output_type": "stream",
     "text": [
      "['recommend' 'priority' 'not_recom' 'very_recom' 'spec_prior']\n"
     ]
    },
    {
     "data": {
      "text/html": [
       "<div>\n",
       "<style scoped>\n",
       "    .dataframe tbody tr th:only-of-type {\n",
       "        vertical-align: middle;\n",
       "    }\n",
       "\n",
       "    .dataframe tbody tr th {\n",
       "        vertical-align: top;\n",
       "    }\n",
       "\n",
       "    .dataframe thead th {\n",
       "        text-align: right;\n",
       "    }\n",
       "</style>\n",
       "<table border=\"1\" class=\"dataframe\">\n",
       "  <thead>\n",
       "    <tr style=\"text-align: right;\">\n",
       "      <th></th>\n",
       "      <th>Parents</th>\n",
       "      <th>has_nursery</th>\n",
       "      <th>form</th>\n",
       "      <th>children</th>\n",
       "      <th>housing</th>\n",
       "      <th>finance</th>\n",
       "      <th>social</th>\n",
       "      <th>health</th>\n",
       "      <th>target</th>\n",
       "      <th>targetID</th>\n",
       "    </tr>\n",
       "  </thead>\n",
       "  <tbody>\n",
       "    <tr>\n",
       "      <th>0</th>\n",
       "      <td>usual</td>\n",
       "      <td>proper</td>\n",
       "      <td>complete</td>\n",
       "      <td>1</td>\n",
       "      <td>convenient</td>\n",
       "      <td>convenient</td>\n",
       "      <td>nonprob</td>\n",
       "      <td>recommended</td>\n",
       "      <td>recommend</td>\n",
       "      <td>0</td>\n",
       "    </tr>\n",
       "    <tr>\n",
       "      <th>1</th>\n",
       "      <td>usual</td>\n",
       "      <td>proper</td>\n",
       "      <td>complete</td>\n",
       "      <td>1</td>\n",
       "      <td>convenient</td>\n",
       "      <td>convenient</td>\n",
       "      <td>nonprob</td>\n",
       "      <td>priority</td>\n",
       "      <td>priority</td>\n",
       "      <td>1</td>\n",
       "    </tr>\n",
       "    <tr>\n",
       "      <th>2</th>\n",
       "      <td>usual</td>\n",
       "      <td>proper</td>\n",
       "      <td>complete</td>\n",
       "      <td>1</td>\n",
       "      <td>convenient</td>\n",
       "      <td>convenient</td>\n",
       "      <td>nonprob</td>\n",
       "      <td>not_recom</td>\n",
       "      <td>not_recom</td>\n",
       "      <td>2</td>\n",
       "    </tr>\n",
       "    <tr>\n",
       "      <th>3</th>\n",
       "      <td>usual</td>\n",
       "      <td>proper</td>\n",
       "      <td>complete</td>\n",
       "      <td>1</td>\n",
       "      <td>convenient</td>\n",
       "      <td>convenient</td>\n",
       "      <td>slightly_prob</td>\n",
       "      <td>recommended</td>\n",
       "      <td>recommend</td>\n",
       "      <td>0</td>\n",
       "    </tr>\n",
       "    <tr>\n",
       "      <th>4</th>\n",
       "      <td>usual</td>\n",
       "      <td>proper</td>\n",
       "      <td>complete</td>\n",
       "      <td>1</td>\n",
       "      <td>convenient</td>\n",
       "      <td>convenient</td>\n",
       "      <td>slightly_prob</td>\n",
       "      <td>priority</td>\n",
       "      <td>priority</td>\n",
       "      <td>1</td>\n",
       "    </tr>\n",
       "  </tbody>\n",
       "</table>\n",
       "</div>"
      ],
      "text/plain": [
       "  Parents has_nursery      form children     housing     finance  \\\n",
       "0   usual      proper  complete        1  convenient  convenient   \n",
       "1   usual      proper  complete        1  convenient  convenient   \n",
       "2   usual      proper  complete        1  convenient  convenient   \n",
       "3   usual      proper  complete        1  convenient  convenient   \n",
       "4   usual      proper  complete        1  convenient  convenient   \n",
       "\n",
       "          social       health     target  targetID  \n",
       "0        nonprob  recommended  recommend         0  \n",
       "1        nonprob     priority   priority         1  \n",
       "2        nonprob    not_recom  not_recom         2  \n",
       "3  slightly_prob  recommended  recommend         0  \n",
       "4  slightly_prob     priority   priority         1  "
      ]
     },
     "execution_count": 15,
     "metadata": {},
     "output_type": "execute_result"
    }
   ],
   "source": [
    "target = Data['target'].unique()\n",
    "print(target)\n",
    "\n",
    "Data['targetID'] = Data['target'].factorize()[0]\n",
    "Data.head()"
   ]
  },
  {
   "cell_type": "markdown",
   "metadata": {},
   "source": [
    "### Figure the Date"
   ]
  },
  {
   "cell_type": "code",
   "execution_count": 18,
   "metadata": {},
   "outputs": [
    {
     "data": {
      "image/png": "[encoded data removed]",
      "text/plain": [
       "<Figure size 360x360 with 1 Axes>"
      ]
     },
     "metadata": {},
     "output_type": "display_data"
    }
   ],
   "source": [
    "import matplotlib.pyplot as plt\n",
    "%matplotlib inline\n",
    "\n",
    "fig = plt.figure(figsize = (5,5))\n",
    "colors = [\"skyblue\"]\n",
    "recommend = Data[Data['targetID'] == 0 ]\n",
    "priority = Data[Data['targetID'] == 1 ]\n",
    "not_recom = Data[Data['targetID'] == 2]\n",
    "very_recom = Data[Data['targetID'] == 3]\n",
    "spec_prior = Data[Data['targetID'] == 4]\n",
    "count = [recommend['targetID'].count(), priority['targetID'].count(), not_recom['targetID'].count(), very_recom['targetID'].count(), spec_prior['targetID'].count()]\n",
    "pie = plt.pie(count, labels = ['recommend', 'priority', 'not recommended', 'very recommended', 'spec_prior'],\n",
    "              autopct = \"%.2f%%\",\n",
    "              shadow = True, colors = colors, startangle = 45,\n",
    "              explode = (0.05, 0.05, 0.05, 0.05,0.05))"
   ]
  },
  {
   "cell_type": "markdown",
   "metadata": {},
   "source": [
    "## split the dataset to features and target"
   ]
  },
  {
   "cell_type": "code",
   "execution_count": 19,
   "metadata": {},
   "outputs": [
    {
     "name": "stdout",
     "output_type": "stream",
     "text": [
      "(12960, 8)\n",
      "(12960,)\n"
     ]
    },
    {
     "data": {
      "text/plain": [
       "0        0\n",
       "1        1\n",
       "2        2\n",
       "3        0\n",
       "4        1\n",
       "        ..\n",
       "12955    4\n",
       "12956    2\n",
       "12957    4\n",
       "12958    4\n",
       "12959    2\n",
       "Name: targetID, Length: 12960, dtype: int64"
      ]
     },
     "execution_count": 19,
     "metadata": {},
     "output_type": "execute_result"
    }
   ],
   "source": [
    "#split the dataset to features and target\n",
    "X_data = Data.iloc[:,:-2].values\n",
    "Y_data = Data['targetID']\n",
    "\n",
    "print(X_data.shape)\n",
    "print(Y_data.shape)\n",
    "Y_data"
   ]
  },
  {
   "cell_type": "markdown",
   "metadata": {},
   "source": [
    "----\n",
    "## Preparing the Data\n",
    "Before data can be used as input for machine learning algorithms, it often must be cleaned, formatted, and restructured — this is typically known as **preprocessing**. Fortunately, for this datase. This preprocessing can help tremendously with the outcome and predictive power of nearly all learning algorithms."
   ]
  },
  {
   "cell_type": "code",
   "execution_count": 21,
   "metadata": {},
   "outputs": [
    {
     "data": {
      "text/html": [
       "<div>\n",
       "<style scoped>\n",
       "    .dataframe tbody tr th:only-of-type {\n",
       "        vertical-align: middle;\n",
       "    }\n",
       "\n",
       "    .dataframe tbody tr th {\n",
       "        vertical-align: top;\n",
       "    }\n",
       "\n",
       "    .dataframe thead th {\n",
       "        text-align: right;\n",
       "    }\n",
       "</style>\n",
       "<table border=\"1\" class=\"dataframe\">\n",
       "  <thead>\n",
       "    <tr style=\"text-align: right;\">\n",
       "      <th></th>\n",
       "      <th>Parents</th>\n",
       "      <th>has_nursery</th>\n",
       "      <th>form</th>\n",
       "      <th>children</th>\n",
       "      <th>housing</th>\n",
       "      <th>finance</th>\n",
       "      <th>social</th>\n",
       "      <th>health</th>\n",
       "      <th>target</th>\n",
       "      <th>targetID</th>\n",
       "    </tr>\n",
       "  </thead>\n",
       "  <tbody>\n",
       "    <tr>\n",
       "      <th>0</th>\n",
       "      <td>usual</td>\n",
       "      <td>proper</td>\n",
       "      <td>complete</td>\n",
       "      <td>1</td>\n",
       "      <td>convenient</td>\n",
       "      <td>convenient</td>\n",
       "      <td>nonprob</td>\n",
       "      <td>recommended</td>\n",
       "      <td>recommend</td>\n",
       "      <td>0</td>\n",
       "    </tr>\n",
       "    <tr>\n",
       "      <th>1</th>\n",
       "      <td>usual</td>\n",
       "      <td>proper</td>\n",
       "      <td>complete</td>\n",
       "      <td>1</td>\n",
       "      <td>convenient</td>\n",
       "      <td>convenient</td>\n",
       "      <td>nonprob</td>\n",
       "      <td>priority</td>\n",
       "      <td>priority</td>\n",
       "      <td>1</td>\n",
       "    </tr>\n",
       "    <tr>\n",
       "      <th>2</th>\n",
       "      <td>usual</td>\n",
       "      <td>proper</td>\n",
       "      <td>complete</td>\n",
       "      <td>1</td>\n",
       "      <td>convenient</td>\n",
       "      <td>convenient</td>\n",
       "      <td>nonprob</td>\n",
       "      <td>not_recom</td>\n",
       "      <td>not_recom</td>\n",
       "      <td>2</td>\n",
       "    </tr>\n",
       "    <tr>\n",
       "      <th>3</th>\n",
       "      <td>usual</td>\n",
       "      <td>proper</td>\n",
       "      <td>complete</td>\n",
       "      <td>1</td>\n",
       "      <td>convenient</td>\n",
       "      <td>convenient</td>\n",
       "      <td>slightly_prob</td>\n",
       "      <td>recommended</td>\n",
       "      <td>recommend</td>\n",
       "      <td>0</td>\n",
       "    </tr>\n",
       "    <tr>\n",
       "      <th>4</th>\n",
       "      <td>usual</td>\n",
       "      <td>proper</td>\n",
       "      <td>complete</td>\n",
       "      <td>1</td>\n",
       "      <td>convenient</td>\n",
       "      <td>convenient</td>\n",
       "      <td>slightly_prob</td>\n",
       "      <td>priority</td>\n",
       "      <td>priority</td>\n",
       "      <td>1</td>\n",
       "    </tr>\n",
       "  </tbody>\n",
       "</table>\n",
       "</div>"
      ],
      "text/plain": [
       "  Parents has_nursery      form children     housing     finance  \\\n",
       "0   usual      proper  complete        1  convenient  convenient   \n",
       "1   usual      proper  complete        1  convenient  convenient   \n",
       "2   usual      proper  complete        1  convenient  convenient   \n",
       "3   usual      proper  complete        1  convenient  convenient   \n",
       "4   usual      proper  complete        1  convenient  convenient   \n",
       "\n",
       "          social       health     target  targetID  \n",
       "0        nonprob  recommended  recommend         0  \n",
       "1        nonprob     priority   priority         1  \n",
       "2        nonprob    not_recom  not_recom         2  \n",
       "3  slightly_prob  recommended  recommend         0  \n",
       "4  slightly_prob     priority   priority         1  "
      ]
     },
     "execution_count": 21,
     "metadata": {},
     "output_type": "execute_result"
    }
   ],
   "source": [
    "Data.head()"
   ]
  },
  {
   "cell_type": "markdown",
   "metadata": {},
   "source": [
    "---\n",
    "### Implementation: Data Preprocessing\n",
    "\n",
    "we can see there are several features for each record that are non-numeric. Typically, learning algorithms expect input to be numeric, which requires that non-numeric features (called *categorical variables*) be converted. One popular way to convert categorical variables is by using the **one-hot encoding** scheme. One-hot encoding creates a _\"dummy\"_ variable for each possible category of each non-numeric feature. For example, assume `someFeature` has three possible entries: `A`, `B`, or `C`. We then encode this feature into `someFeature_A`, `someFeature_B` and `someFeature_C`.\n",
    "\n",
    "|   | someFeature |                    | someFeature_A | someFeature_B | someFeature_C |\n",
    "| :-: | :-: |                            | :-: | :-: | :-: |\n",
    "| 0 |  B  |  | 0 | 1 | 0 |\n",
    "| 1 |  C  | ----> one-hot encode ----> | 0 | 0 | 1 |\n",
    "| 2 |  A  |  | 1 | 0 | 0 |\n",
    "\n",
    "As with the non-numeric features, we need to convert the non-numeric target labels to numerical values for the learning algorithm to work."
   ]
  },
  {
   "cell_type": "code",
   "execution_count": 22,
   "metadata": {},
   "outputs": [
    {
     "name": "stdout",
     "output_type": "stream",
     "text": [
      "  0  1  2  3  4  5  6  7  8  9   ... 25 26 27 28 29 30 31 32 33 34\n",
      "0  1  0  1  0  1  0  0  1  1  0  ...  0  0  0  1  0  0  1  0  1  0\n",
      "1  1  0  1  0  0  1  1  0  1  0  ...  0  0  0  1  0  0  1  0  1  0\n",
      "2  1  0  0  1  1  0  1  0  1  0  ...  0  0  0  1  0  0  1  0  1  0\n",
      "3  0  1  1  0  1  0  0  1  1  0  ...  0  0  0  1  0  0  1  0  0  0\n",
      "4  0  1  1  0  0  1  1  0  1  0  ...  0  0  0  1  0  0  1  0  0  0\n",
      "\n",
      "[5 rows x 35 columns]\n"
     ]
    }
   ],
   "source": [
    "#preprocessing\n",
    "from sklearn.compose import ColumnTransformer\n",
    "oh = ColumnTransformer([('encoder',OneHotEncoder(),[0,1,2,3,4,5,6])],remainder=\"passthrough\")\n",
    "X_data = np.array(oh.fit_transform(X_data))\n",
    "oh = ColumnTransformer([('encoder',OneHotEncoder(),[-1])],remainder=\"passthrough\")\n",
    "X_data = np.array(oh.fit_transform(X_data))\n",
    "print(pd.DataFrame(X_data).head())"
   ]
  },
  {
   "cell_type": "markdown",
   "metadata": {},
   "source": [
    "# Splitting the dataset into the Training set, validation and Test set"
   ]
  },
  {
   "cell_type": "code",
   "execution_count": 25,
   "metadata": {},
   "outputs": [
    {
     "name": "stdout",
     "output_type": "stream",
     "text": [
      "Training set has 5817 samples.\n",
      "Validation set has 2866 samples.\n",
      "Testing set has 4277 samples.\n"
     ]
    }
   ],
   "source": [
    "#Splitting the dataset into the Training set, validation and Test set\n",
    "X, x_test, Y, y_test = train_test_split(X_data, Y_data, \n",
    "                                        test_size=0.33, \n",
    "                                        random_state=0)\n",
    "x_train, x_vali, y_train, y_vali = train_test_split(X, Y, \n",
    "                                                    test_size=0.33, \n",
    "                                                    random_state=2)\n",
    "\n",
    "# Show the results of the split\n",
    "print(\"Training set has {} samples.\".format(x_train.shape[0]))\n",
    "print(\"Validation set has {} samples.\".format(x_vali.shape[0]))\n",
    "print(\"Testing set has {} samples.\".format(x_test.shape[0]))"
   ]
  },
  {
   "cell_type": "markdown",
   "metadata": {},
   "source": [
    "# Training the models on the Training set"
   ]
  },
  {
   "cell_type": "code",
   "execution_count": 26,
   "metadata": {},
   "outputs": [
    {
     "data": {
      "text/plain": [
       "RandomForestClassifier(criterion='entropy', n_estimators=150, random_state=0)"
      ]
     },
     "execution_count": 26,
     "metadata": {},
     "output_type": "execute_result"
    }
   ],
   "source": [
    "#Training the K-NN model on the Training set\n",
    "from sklearn.neighbors import KNeighborsClassifier\n",
    "knn = KNeighborsClassifier(n_neighbors = 5, metric = 'minkowski', p = 2)\n",
    "knn.fit(x_train, y_train)\n",
    "\n",
    "#Training the Naive Bayes model on the Training set\n",
    "from sklearn.naive_bayes import GaussianNB\n",
    "naive = GaussianNB()\n",
    "naive.fit(x_train, y_train)\n",
    "\n",
    "#Training the Decision Tree model on the Training set\n",
    "tree = DecisionTreeClassifier(max_depth=15, criterion='entropy', random_state=2)\n",
    "tree.fit(x_train, y_train)\n",
    "\n",
    "#Training the Random Forest Classifier model on the Training set\n",
    "from sklearn.ensemble import RandomForestClassifier\n",
    "RFC = RandomForestClassifier(n_estimators = 150, criterion = 'entropy', random_state = 0)\n",
    "RFC.fit(x_train, y_train)"
   ]
  },
  {
   "cell_type": "markdown",
   "metadata": {},
   "source": [
    "# Predicting the dataset results"
   ]
  },
  {
   "cell_type": "code",
   "execution_count": 27,
   "metadata": {},
   "outputs": [
    {
     "name": "stdout",
     "output_type": "stream",
     "text": [
      "KNN acc_train: 97.15\n",
      "KNN acc_vali: 94.38\n",
      "KNN acc_test: 94.67\n",
      "\n",
      "NAIVE BAYES acc_train: 84.17\n",
      "NAIVE BAYES acc_vali: 82.66\n",
      "NAIVE BAYES acc_test: 84.52\n",
      "\n",
      "DT acc_train: 100.00\n",
      "DT acc_vali: 98.95\n",
      "DT acc_test: 98.67\n",
      "\n",
      "RFC acc_train: 100.00\n",
      "RFC acc_vali: 97.45\n",
      "RFC acc_test: 97.78\n"
     ]
    }
   ],
   "source": [
    "acc_train = []\n",
    "acc_vali = []\n",
    "acc_test = []\n",
    "\n",
    "# Predicting the Test set results\n",
    "y_pred_train = knn.predict(x_train)\n",
    "acc_train.append(accuracy_score(y_train, y_pred_train) * 100)\n",
    "print(f\"KNN acc_train: {acc_train[0]:.2f}\")\n",
    "\n",
    "y_pred_vali = knn.predict(x_vali)\n",
    "acc_vali.append(accuracy_score(y_vali, y_pred_vali) * 100)\n",
    "print(f\"KNN acc_vali: {acc_vali[0]:.2f}\")\n",
    "\n",
    "y_pred_test = knn.predict(x_test)\n",
    "acc_test.append(accuracy_score(y_test, y_pred_test) * 100)\n",
    "print(f\"KNN acc_test: {acc_test[0]:.2f}\")\n",
    "print()\n",
    "\n",
    "\n",
    "# Predicting the Test set results\n",
    "y_pred_train = naive.predict(x_train)\n",
    "acc_train.append(accuracy_score(y_train, y_pred_train) * 100)\n",
    "print(f\"NAIVE BAYES acc_train: {acc_train[1]:.2f}\")\n",
    "\n",
    "y_pred_vali = naive.predict(x_vali)\n",
    "acc_vali.append(accuracy_score(y_vali, y_pred_vali) * 100)\n",
    "print(f\"NAIVE BAYES acc_vali: {acc_vali[1]:.2f}\")\n",
    "\n",
    "y_pred_test = naive.predict(x_test)\n",
    "acc_test.append(accuracy_score(y_test, y_pred_test) * 100)\n",
    "print(f\"NAIVE BAYES acc_test: {acc_test[1]:.2f}\")\n",
    "print()\n",
    "\n",
    "\n",
    "# Predicting the Test set results\n",
    "y_pred_train = tree.predict(x_train)\n",
    "acc_train.append(accuracy_score(y_train, y_pred_train) * 100)\n",
    "print(f\"DT acc_train: {acc_train[2]:.2f}\")\n",
    "\n",
    "y_pred_vali = tree.predict(x_vali)\n",
    "acc_vali.append(accuracy_score(y_vali, y_pred_vali) * 100)\n",
    "print(f\"DT acc_vali: {acc_vali[2]:.2f}\")\n",
    "\n",
    "y_pred_test = tree.predict(x_test)\n",
    "acc_test.append(accuracy_score(y_test, y_pred_test) * 100)\n",
    "print(f\"DT acc_test: {acc_test[2]:.2f}\")\n",
    "print()\n",
    "\n",
    "\n",
    "# Predicting the Test set results\n",
    "y_pred_train = RFC.predict(x_train)\n",
    "acc_train.append(accuracy_score(y_train, y_pred_train) * 100)\n",
    "print(f\"RFC acc_train: {acc_train[3]:.2f}\")\n",
    "\n",
    "y_pred_vali = RFC.predict(x_vali)\n",
    "acc_vali.append(accuracy_score(y_vali, y_pred_vali) * 100)\n",
    "print(f\"RFC acc_vali: {acc_vali[3]:.2f}\")\n",
    "\n",
    "y_pred_test = RFC.predict(x_test)\n",
    "acc_test.append(accuracy_score(y_test, y_pred_test) * 100)\n",
    "print(f\"RFC acc_test: {acc_test[3]:.2f}\")"
   ]
  },
  {
   "cell_type": "markdown",
   "metadata": {},
   "source": [
    "# show the Models results"
   ]
  },
  {
   "cell_type": "code",
   "execution_count": 28,
   "metadata": {},
   "outputs": [
    {
     "data": {
      "image/png": "[encoded data removed]",
      "text/plain": [
       "<Figure size 432x288 with 1 Axes>"
      ]
     },
     "metadata": {
      "needs_background": "light"
     },
     "output_type": "display_data"
    }
   ],
   "source": [
    "x = ['KNN', 'NAIVE BAYES', 'DT', 'RFC']\n",
    "plt.plot(x, acc_train, label='acc train')\n",
    "plt.plot(x, acc_vali, label='acc vali')\n",
    "plt.plot(x, acc_test, label='acc test')\n",
    "\n",
    "\n",
    "plt.legend()\n",
    "plt.grid(axis='both')\n",
    "plt.xlabel('models')\n",
    "plt.ylabel('accuracy')\n",
    "plt.title('Effect of models on accuracy')\n",
    "plt.show()"
   ]
  },
  {
   "cell_type": "markdown",
   "metadata": {},
   "source": [
    "## choose the best max_depth from range(10, 20)"
   ]
  },
  {
   "cell_type": "code",
   "execution_count": 29,
   "metadata": {},
   "outputs": [],
   "source": [
    "max_depth_values=[]\n",
    "for i in range(10,20):\n",
    "    max_depth_values.append(i)\n",
    "train_acc_val=[]\n",
    "test_acc_val=[]\n",
    "vali_acc_val=[]\n",
    "for max_depth_val in max_depth_values:\n",
    "    tree = DecisionTreeClassifier(max_depth=max_depth_val, criterion='entropy', random_state=2)\n",
    "    #print(max_depth_val)\n",
    "    tree.fit(x_train, y_train)\n",
    "    y_pred_train = tree.predict(x_train)\n",
    "    y_pred_vali = tree.predict(x_vali)\n",
    "    y_pred_test = tree.predict(x_test)\n",
    "    train_acc_val.append(accuracy_score(y_train, y_pred_train))\n",
    "    vali_acc_val.append(accuracy_score(y_vali, y_pred_vali))\n",
    "    test_acc_val.append(accuracy_score(y_test, y_pred_test))"
   ]
  },
  {
   "cell_type": "markdown",
   "metadata": {},
   "source": [
    "### show Effect of Max depth from range(10, 20) on accuracy"
   ]
  },
  {
   "cell_type": "code",
   "execution_count": 30,
   "metadata": {},
   "outputs": [
    {
     "data": {
      "image/png": "[encoded data removed]",
      "text/plain": [
       "<Figure size 432x288 with 1 Axes>"
      ]
     },
     "metadata": {
      "needs_background": "light"
     },
     "output_type": "display_data"
    }
   ],
   "source": [
    "plt.plot(max_depth_values, train_acc_val, label='acc train')\n",
    "plt.plot(max_depth_values, vali_acc_val, label='acc vali')\n",
    "plt.plot(max_depth_values, test_acc_val, label='acc test')\n",
    "plt.legend()\n",
    "plt.grid(axis='both')\n",
    "plt.xlabel('max_depth')\n",
    "plt.ylabel('accuracy')\n",
    "plt.title('Effect of Max depth on accuracy')\n",
    "plt.show()"
   ]
  },
  {
   "cell_type": "markdown",
   "metadata": {},
   "source": [
    "# Train The Decision Tree Classifier Model"
   ]
  },
  {
   "cell_type": "code",
   "execution_count": 31,
   "metadata": {},
   "outputs": [
    {
     "name": "stdout",
     "output_type": "stream",
     "text": [
      "DT acc_train: 100.00\n",
      "DT acc_vali: 98.95\n",
      "DT acc_test: 98.67\n"
     ]
    }
   ],
   "source": [
    "#Training the Decision Tree model on the Training set\n",
    "tree = DecisionTreeClassifier(max_depth=15, criterion='entropy', random_state=2)\n",
    "tree.fit(x_train, y_train)\n",
    "\n",
    "# Predicting the Test set results\n",
    "y = []\n",
    "y_pred_train = tree.predict(x_train)\n",
    "y.append(accuracy_score(y_train, y_pred_train) * 100)\n",
    "print(f\"DT acc_train: {y[0]:.2f}\")\n",
    "\n",
    "y_pred_vali = tree.predict(x_vali)\n",
    "y.append(accuracy_score(y_vali, y_pred_vali) * 100)\n",
    "print(f\"DT acc_vali: {y[1]:.2f}\")\n",
    "\n",
    "y_pred_test = tree.predict(x_test)\n",
    "y.append(accuracy_score(y_test, y_pred_test) * 100)\n",
    "print(f\"DT acc_test: {y[2]:.2f}\")"
   ]
  },
  {
   "cell_type": "code",
   "execution_count": 32,
   "metadata": {},
   "outputs": [
    {
     "data": {
      "image/png": "[encoded data removed]",
      "text/plain": [
       "<Figure size 432x288 with 1 Axes>"
      ]
     },
     "metadata": {
      "needs_background": "light"
     },
     "output_type": "display_data"
    }
   ],
   "source": [
    "x = ['acc train', 'acc vali', 'acc test']\n",
    "plt.plot(x, y)\n",
    "\n",
    "plt.grid(axis='both')\n",
    "plt.xlabel('data')\n",
    "plt.ylabel('accuracy')\n",
    "plt.title('DT')\n",
    "plt.show()"
   ]
  }
 ],
 "metadata": {
  "kernelspec": {
   "display_name": "Python 3",
   "language": "python",
   "name": "python3"
  },
  "language_info": {
   "codemirror_mode": {
    "name": "ipython",
    "version": 3
   },
   "file_extension": ".py",
   "mimetype": "text/x-python",
   "name": "python",
   "nbconvert_exporter": "python",
   "pygments_lexer": "ipython3",
   "version": "3.8.3"
  }
 },
 "nbformat": 4,
 "nbformat_minor": 4
}
